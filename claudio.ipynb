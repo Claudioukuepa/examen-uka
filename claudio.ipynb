import nbformat as nbf

# Crear un nuevo cuaderno
nb = nbf.v4.new_notebook()

# Agregar celdas de código y texto con el contenido existente

# Celda de importaciones
nb.cells.append(nbf.v4.new_code_cell("""\
import pandas as pd
import matplotlib.pyplot as plt
import scipy.stats as stats
"""))

# Celda de carga de datos
nb.cells.append(nbf.v4.new_code_cell("""\
# Se lee el conjunto de datos de Boston desde la URL
boston_url = 'https://cf-courses-data.s3.us.cloud-object-storage.appdomain.cloud/IBMDeveloperSkillsNetwork-ST0151EN-SkillsNetwork/labs/boston_housing.csv'
boston_df = pd.read_csv(boston_url, header=0)
"""))

# Celda de vista previa de datos
nb.cells.append(nbf.v4.new_code_cell("""\
print(boston_df.head())
"""))

# Celdas de visualizaciones y análisis estadístico (cada tarea)
nb.cells.append(nbf.v4.new_code_cell("""\
# 1. Valor mediano de las viviendas ocupadas por sus propietarios
plt.figure(figsize=(8, 6))
plt.boxplot(boston_df['MEDV'])
plt.xlabel('Valor Mediano de las Viviendas Ocupadas por Sus Propietarios')
plt.ylabel('Valor')
plt.title('Diagrama de Caja del Valor Mediano de las Viviendas Ocupadas por Sus Propietarios')
plt.show()
"""))

# (Agregar el resto de las celdas de código y texto para las otras tareas)

# Convertir el cuaderno en JSON
nb_json = nbf.write(nb)

# Guardar el cuaderno en un archivo .ipynb
with open('examen_claudio.ipynb', 'w') as f:
    nbf.write(nb, f)
